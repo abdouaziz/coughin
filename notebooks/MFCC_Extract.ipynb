{
  "nbformat": 4,
  "nbformat_minor": 0,
  "metadata": {
    "colab": {
      "name": "MFCC_Extract.ipynb",
      "provenance": [],
      "collapsed_sections": []
    },
    "kernelspec": {
      "name": "python3",
      "display_name": "Python 3"
    },
    "language_info": {
      "name": "python"
    }
  },
  "cells": [
    {
      "cell_type": "code",
      "metadata": {
        "id": "05htARK3sWL7"
      },
      "source": [
        "import pandas as pd \n",
        "import numpy as np\n",
        "import librosa, librosa.display\n",
        "import matplotlib.pyplot as plt\n",
        "import os \n",
        "import math\n",
        "import json"
      ],
      "execution_count": null,
      "outputs": []
    },
    {
      "cell_type": "code",
      "metadata": {
        "id": "Be93V8Wsuomy"
      },
      "source": [
        "DATASET_PATH =\"./content/drive/MyDrive/clinical/segmented\"\n",
        "JSON_PATH = \"data.json\"\n",
        "SAMPLE_RATE =22050\n",
        "DURATION = 1 \n",
        "SAMPLE_PER_TRACK = SAMPLE_RATE*DURATION"
      ],
      "execution_count": null,
      "outputs": []
    },
    {
      "cell_type": "code",
      "metadata": {
        "colab": {
          "base_uri": "https://localhost:8080/"
        },
        "id": "3v4sqVu1ZSvg",
        "outputId": "b7db0ffe-e7ee-49b8-8a5b-19bf112bdd9b"
      },
      "source": [
        "len(DATASET_PATH)"
      ],
      "execution_count": null,
      "outputs": [
        {
          "output_type": "execute_result",
          "data": {
            "text/plain": [
              "43"
            ]
          },
          "metadata": {
            "tags": []
          },
          "execution_count": 76
        }
      ]
    },
    {
      "cell_type": "code",
      "metadata": {
        "id": "E3-qYM8xD4fY"
      },
      "source": [
        "def save_mffc (dataset_path ,json_path , n_mfcc=13 , n_fft=2048, hop_length=512 , num_segment=5):\n",
        "\n",
        "  data = {\n",
        "      \"mapping\":[],\n",
        "      \"mfcc\":[],\n",
        "      \"labels\":[]\n",
        "  }\n",
        "\n",
        "\n",
        "  num_sample_per_segment = int(SAMPLE_PER_TRACK/num_segment)\n",
        "  expected_num_mfcc_per_segment = math.ceil(num_sample_per_segment / hop_length)\n",
        "\n",
        "\n",
        "  for i , (dirpath,dirnames,filenames) in enumerate(os.walk(dataset_path)):\n",
        "\n",
        "    if dirpath is not dataset_path:\n",
        "\n",
        "      dirpath_components = dirpath.split(\"/\")\n",
        "      semantic_labels = dirpath_components[:-1]\n",
        "      data[\"mapping\"].append(semantic_labels)\n",
        "      print(\"\\nProcessing {}\".format(semantic_labels))\n",
        "\n",
        "\n",
        "      for f in filenames:\n",
        "\n",
        "        file_path = os.path.join(dirpath , f)\n",
        "\n",
        "        signal ,sr  = librosa.load(file_path , sr=SAMPLE_RATE)\n",
        "\n",
        "\n",
        "        for s in range(num_segment):\n",
        "          start_sample  = num_sample_per_segment*s\n",
        "          finish_sample = start_sample + num_sample_per_segment\n",
        "\n",
        "          mfcc = librosa.feature.mfcc(signal[start_sample:finish_sample] , \n",
        "                                      sr=SAMPLE_RATE  ,\n",
        "                                      n_fft =  n_fft ,\n",
        "                                      n_mfcc=n_mfcc ,\n",
        "                                      hop_length = hop_length) \n",
        "          mfcc = mfcc.T \n",
        "\n",
        "          if len(mfcc) == expected_num_mfcc_per_segment:\n",
        "\n",
        "            data[\"mfcc\"].append(mfcc.tolist())\n",
        "            data[\"labels\"].append(i-1)\n",
        "            print(\"{} , segment : {}\".format(file_path ,s))\n",
        "\n",
        "\n",
        "\n",
        "  with open(json_path , \"w\") as fp:\n",
        "    json.dump(data ,fp , indent=4)\n"
      ],
      "execution_count": null,
      "outputs": []
    },
    {
      "cell_type": "code",
      "metadata": {
        "id": "LeXW3oOyEoxq"
      },
      "source": [
        "save_mffc(DATASET_PATH ,JSON_PATH , num_segment=5)"
      ],
      "execution_count": null,
      "outputs": []
    }
  ]
}