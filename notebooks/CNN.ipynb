{
  "nbformat": 4,
  "nbformat_minor": 0,
  "metadata": {
    "colab": {
      "name": "CNN.ipynb",
      "provenance": [],
      "collapsed_sections": []
    },
    "kernelspec": {
      "display_name": "Python 3",
      "name": "python3"
    },
    "language_info": {
      "name": "python"
    }
  },
  "cells": [
    {
      "cell_type": "code",
      "metadata": {
        "id": "W5sq-RKaxriS"
      },
      "source": [
        "import json \n",
        "import tensorflow as tf \n",
        "import tensorflow.keras as keras\n",
        "import json \n",
        "import numpy as np \n",
        "import pandas as pd \n",
        "import matplotlib.pyplot as plt \n",
        "from sklearn.model_selection import train_test_split \n",
        "\n"
      ],
      "execution_count": null,
      "outputs": []
    },
    {
      "cell_type": "code",
      "metadata": {
        "id": "_rmpsz8o6FKv"
      },
      "source": [
        "file =\"data.json\"\n",
        "\n",
        "def load_data(filename=file):\n",
        "    with open(filename, \"r\") as f:\n",
        "        data = json.load(f)\n",
        "\n",
        "        inputs = np.array(data[\"mffc\"])\n",
        "        targets = np.array(data[\"labels\"])\n",
        "\n",
        "    return inputs ,  targets \n",
        "\n",
        "\n",
        "\n",
        "def prepared_dataset(test_size, validation_size):\n",
        "    X,y = load_data()\n",
        "\n",
        "    X_train , X_test , y_train , y_test = train_test_split(X,y , test_size=test_size)\n",
        "    #Here we create the validation \n",
        "\n",
        "\n",
        "    X_train , X_validation , y_train , y_validation =  train_test_split(X_train ,y_train , test_size=validation_size)\n",
        "\n",
        "    X_train = X_train[..., np.newaxis]\n",
        "    X_validation = X_validation[..., np.newaxis]\n",
        "    X_test = X_test[..., np.newaxis]\n",
        "\n",
        "    return X_train , X_validation ,X_test , y_train ,y_validation , y_test  \n",
        "\n",
        "\n",
        "def build_model(input_shape):\n",
        " \n",
        "    \n",
        "    model = keras.Sequential()\n",
        "\n",
        " \n",
        "    model.add(keras.layers.Conv2D(32, (3, 3), activation='relu', input_shape=input_shape))\n",
        "    model.add(keras.layers.MaxPooling2D((3, 3), strides=(2, 2), padding='same'))\n",
        "    model.add(keras.layers.BatchNormalization())\n",
        "\n",
        "\n",
        "    model.add(keras.layers.Conv2D(32, (2, 2), activation='relu'))\n",
        "    model.add(keras.layers.MaxPooling2D((2, 2), strides=(2, 2), padding='same'))\n",
        "    model.add(keras.layers.BatchNormalization())\n",
        "\n",
        "\n",
        "    model.add(keras.layers.Flatten())\n",
        "    model.add(keras.layers.Dense(64, activation='relu'))\n",
        "    model.add(keras.layers.Dropout(0.3))\n",
        "\n",
        "\n",
        "    model.add(keras.layers.Dense(1, activation='sigmoid'))\n",
        "\n",
        "    return model \n",
        "\n",
        "\n",
        "\n",
        "def predict(model, X, y):\n",
        " \n",
        "     \n",
        "    X = X[np.newaxis, ...] # array shape (1, 130, 13, 1)\n",
        "\n",
        "    # perform prediction\n",
        "    prediction = model.predict(X)\n",
        "\n",
        "    # get index with max value\n",
        "    predicted_index = np.argmax(prediction, axis=1)\n",
        "\n",
        "    print(\"Target: {}, Predicted label: {}\".format(y, predicted_index))\n",
        "\n"
      ],
      "execution_count": null,
      "outputs": []
    },
    {
      "cell_type": "code",
      "metadata": {
        "id": "UIDynoA_uWEg"
      },
      "source": [
        " X,y = load_data()"
      ],
      "execution_count": 13,
      "outputs": []
    },
    {
      "cell_type": "code",
      "metadata": {
        "colab": {
          "base_uri": "https://localhost:8080/"
        },
        "id": "xP-3naBVx4cm",
        "outputId": "d4e5b043-ac47-4527-9410-c4d42c63681a"
      },
      "source": [
        "X_train , X_validation ,X_test , y_train ,y_validation , y_test= prepared_dataset(0.25 , 0.2)\n",
        "   \n",
        "input_shape = (X_train.shape[1], X_train.shape[2], 1)\n",
        "model = build_model(input_shape)\n",
        "\n",
        "# compile model\n",
        "optimiser = keras.optimizers.RMSprop(learning_rate=0.0001)\n",
        "model.compile(optimizer=optimiser,  loss='binary_crossentropy', metrics=['accuracy'])\n",
        "\n",
        "model.summary()\n",
        "\n",
        "    # train model\n",
        "history = model.fit(X_train, y_train, validation_data=(X_validation, y_validation), batch_size=32, epochs=30)\n",
        "\n",
        "model.save(\"model.h5\")\n"
      ],
      "execution_count": null,
      "outputs": [
        {
          "output_type": "stream",
          "text": [
            "Model: \"sequential_1\"\n",
            "_________________________________________________________________\n",
            "Layer (type)                 Output Shape              Param #   \n",
            "=================================================================\n",
            "conv2d_2 (Conv2D)            (None, 3, 11, 32)         320       \n",
            "_________________________________________________________________\n",
            "max_pooling2d_2 (MaxPooling2 (None, 2, 6, 32)          0         \n",
            "_________________________________________________________________\n",
            "batch_normalization_2 (Batch (None, 2, 6, 32)          128       \n",
            "_________________________________________________________________\n",
            "conv2d_3 (Conv2D)            (None, 1, 5, 32)          4128      \n",
            "_________________________________________________________________\n",
            "max_pooling2d_3 (MaxPooling2 (None, 1, 3, 32)          0         \n",
            "_________________________________________________________________\n",
            "batch_normalization_3 (Batch (None, 1, 3, 32)          128       \n",
            "_________________________________________________________________\n",
            "flatten_1 (Flatten)          (None, 96)                0         \n",
            "_________________________________________________________________\n",
            "dense_2 (Dense)              (None, 64)                6208      \n",
            "_________________________________________________________________\n",
            "dropout_1 (Dropout)          (None, 64)                0         \n",
            "_________________________________________________________________\n",
            "dense_3 (Dense)              (None, 1)                 65        \n",
            "=================================================================\n",
            "Total params: 10,977\n",
            "Trainable params: 10,849\n",
            "Non-trainable params: 128\n",
            "_________________________________________________________________\n",
            "Epoch 1/30\n",
            "23/23 [==============================] - 1s 13ms/step - loss: 0.7278 - accuracy: 0.5837 - val_loss: 0.8287 - val_accuracy: 0.5989\n",
            "Epoch 2/30\n",
            "23/23 [==============================] - 0s 6ms/step - loss: 0.6574 - accuracy: 0.6125 - val_loss: 0.6919 - val_accuracy: 0.6044\n",
            "Epoch 3/30\n",
            "23/23 [==============================] - 0s 6ms/step - loss: 0.6694 - accuracy: 0.6333 - val_loss: 0.6582 - val_accuracy: 0.6374\n",
            "Epoch 4/30\n",
            "23/23 [==============================] - 0s 6ms/step - loss: 0.6492 - accuracy: 0.6330 - val_loss: 0.6511 - val_accuracy: 0.6538\n",
            "Epoch 5/30\n",
            "23/23 [==============================] - 0s 6ms/step - loss: 0.6019 - accuracy: 0.6795 - val_loss: 0.6454 - val_accuracy: 0.6484\n",
            "Epoch 6/30\n",
            "23/23 [==============================] - 0s 5ms/step - loss: 0.6494 - accuracy: 0.6563 - val_loss: 0.6378 - val_accuracy: 0.6484\n",
            "Epoch 7/30\n",
            "23/23 [==============================] - 0s 6ms/step - loss: 0.6119 - accuracy: 0.6624 - val_loss: 0.6253 - val_accuracy: 0.6703\n",
            "Epoch 8/30\n",
            "23/23 [==============================] - 0s 12ms/step - loss: 0.6154 - accuracy: 0.6732 - val_loss: 0.6188 - val_accuracy: 0.6758\n",
            "Epoch 9/30\n",
            "23/23 [==============================] - 0s 6ms/step - loss: 0.5895 - accuracy: 0.7098 - val_loss: 0.6088 - val_accuracy: 0.6868\n",
            "Epoch 10/30\n",
            "23/23 [==============================] - 0s 6ms/step - loss: 0.5931 - accuracy: 0.6909 - val_loss: 0.6067 - val_accuracy: 0.6923\n",
            "Epoch 11/30\n",
            "23/23 [==============================] - 0s 6ms/step - loss: 0.5945 - accuracy: 0.6902 - val_loss: 0.6001 - val_accuracy: 0.6868\n",
            "Epoch 12/30\n",
            "23/23 [==============================] - 0s 6ms/step - loss: 0.5822 - accuracy: 0.7160 - val_loss: 0.5971 - val_accuracy: 0.6868\n",
            "Epoch 13/30\n",
            "23/23 [==============================] - 0s 6ms/step - loss: 0.6105 - accuracy: 0.6900 - val_loss: 0.5932 - val_accuracy: 0.6813\n",
            "Epoch 14/30\n",
            "23/23 [==============================] - 0s 6ms/step - loss: 0.6060 - accuracy: 0.6935 - val_loss: 0.5881 - val_accuracy: 0.6978\n",
            "Epoch 15/30\n",
            "23/23 [==============================] - 0s 6ms/step - loss: 0.5759 - accuracy: 0.7010 - val_loss: 0.5811 - val_accuracy: 0.6978\n",
            "Epoch 16/30\n",
            "23/23 [==============================] - 0s 6ms/step - loss: 0.5600 - accuracy: 0.7143 - val_loss: 0.5806 - val_accuracy: 0.6923\n",
            "Epoch 17/30\n",
            "23/23 [==============================] - 0s 6ms/step - loss: 0.5741 - accuracy: 0.7029 - val_loss: 0.5803 - val_accuracy: 0.6813\n",
            "Epoch 18/30\n",
            "23/23 [==============================] - 0s 6ms/step - loss: 0.5416 - accuracy: 0.7329 - val_loss: 0.5754 - val_accuracy: 0.6923\n",
            "Epoch 19/30\n",
            "23/23 [==============================] - 0s 6ms/step - loss: 0.5631 - accuracy: 0.7200 - val_loss: 0.5730 - val_accuracy: 0.6978\n",
            "Epoch 20/30\n",
            "23/23 [==============================] - 0s 6ms/step - loss: 0.5861 - accuracy: 0.6833 - val_loss: 0.5699 - val_accuracy: 0.6978\n",
            "Epoch 21/30\n",
            "23/23 [==============================] - 0s 6ms/step - loss: 0.5771 - accuracy: 0.6877 - val_loss: 0.5685 - val_accuracy: 0.6923\n",
            "Epoch 22/30\n",
            "23/23 [==============================] - 0s 6ms/step - loss: 0.5581 - accuracy: 0.7064 - val_loss: 0.5658 - val_accuracy: 0.6923\n",
            "Epoch 23/30\n",
            "23/23 [==============================] - 0s 6ms/step - loss: 0.5481 - accuracy: 0.7392 - val_loss: 0.5643 - val_accuracy: 0.6978\n",
            "Epoch 24/30\n",
            "23/23 [==============================] - 0s 6ms/step - loss: 0.5359 - accuracy: 0.7507 - val_loss: 0.5632 - val_accuracy: 0.6978\n",
            "Epoch 25/30\n",
            "23/23 [==============================] - 0s 6ms/step - loss: 0.5293 - accuracy: 0.7425 - val_loss: 0.5626 - val_accuracy: 0.6978\n",
            "Epoch 26/30\n",
            "23/23 [==============================] - 0s 6ms/step - loss: 0.5535 - accuracy: 0.7231 - val_loss: 0.5597 - val_accuracy: 0.7088\n",
            "Epoch 27/30\n",
            "23/23 [==============================] - 0s 6ms/step - loss: 0.5419 - accuracy: 0.7258 - val_loss: 0.5569 - val_accuracy: 0.6923\n",
            "Epoch 28/30\n",
            "23/23 [==============================] - 0s 6ms/step - loss: 0.5313 - accuracy: 0.7395 - val_loss: 0.5552 - val_accuracy: 0.6978\n",
            "Epoch 29/30\n",
            "23/23 [==============================] - 0s 6ms/step - loss: 0.5186 - accuracy: 0.7440 - val_loss: 0.5521 - val_accuracy: 0.7088\n",
            "Epoch 30/30\n",
            "23/23 [==============================] - 0s 6ms/step - loss: 0.5279 - accuracy: 0.7382 - val_loss: 0.5543 - val_accuracy: 0.6978\n"
          ],
          "name": "stdout"
        }
      ]
    },
    {
      "cell_type": "code",
      "metadata": {
        "id": "oSOaiXYmz6KZ"
      },
      "source": [
        "def plot_graph(history , string):\n",
        "  plt.plot(history.history[string])\n",
        "  plt.plot(history.history[\"val_\"+string])\n",
        "  plt.xlabel(string)\n",
        "  plt.ylabel(\"val_\"+string)\n",
        "  plt.legend([string , \"val_\"+string])\n",
        "  plt.show()\n",
        "\n"
      ],
      "execution_count": null,
      "outputs": []
    },
    {
      "cell_type": "code",
      "metadata": {
        "colab": {
          "base_uri": "https://localhost:8080/",
          "height": 541
        },
        "id": "v5kued0I2J9q",
        "outputId": "8178e154-4b9c-422b-a59e-bce35394cd04"
      },
      "source": [
        "plot_graph(history , \"accuracy\")\n",
        "plot_graph(history , \"loss\")\n"
      ],
      "execution_count": null,
      "outputs": [
        {
          "output_type": "display_data",
          "data": {
            "image/png": "[encoded data removed]",
            "text/plain": [
              "<Figure size 432x288 with 1 Axes>"
            ]
          },
          "metadata": {
            "tags": [],
            "needs_background": "light"
          }
        },
        {
          "output_type": "display_data",
          "data": {
            "image/png": "[encoded data removed]",
            "text/plain": [
              "<Figure size 432x288 with 1 Axes>"
            ]
          },
          "metadata": {
            "tags": [],
            "needs_background": "light"
          }
        }
      ]
    }
  ]
}